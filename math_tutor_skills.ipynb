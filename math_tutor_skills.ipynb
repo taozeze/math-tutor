{
 "cells": [
  {
   "cell_type": "code",
   "execution_count": 3,
   "metadata": {
    "collapsed": true
   },
   "outputs": [],
   "source": [
    "import pandas as pd\n",
    "import numpy as np\n",
    "import csv as csv\n",
    "import matplotlib.pyplot as plt\n",
    "%matplotlib inline "
   ]
  },
  {
   "cell_type": "code",
   "execution_count": 4,
   "metadata": {
    "collapsed": true
   },
   "outputs": [],
   "source": [
    "df = pd.read_csv('algebra_2005_2006_train.txt', sep='\\t')"
   ]
  },
  {
   "cell_type": "code",
   "execution_count": 5,
   "metadata": {
    "collapsed": false
   },
   "outputs": [],
   "source": [
    "df[['KC1', 'KC2', 'KC3', 'KC4', 'KC5', 'KC6', 'KC7']] = df['KC(Default)'].str.split('~~', expand=True)"
   ]
  },
  {
   "cell_type": "code",
   "execution_count": 6,
   "metadata": {
    "collapsed": false
   },
   "outputs": [],
   "source": [
    "df[['Opps1', 'Opps2', 'Opps3', 'Opps4', 'Opps5', 'Opps6', 'Opps7']] = df['Opportunity(Default)'].str.split('~~', expand=True)"
   ]
  },
  {
   "cell_type": "code",
   "execution_count": 36,
   "metadata": {
    "collapsed": false
   },
   "outputs": [
    {
     "data": {
      "text/plain": [
       "114"
      ]
     },
     "execution_count": 36,
     "metadata": {},
     "output_type": "execute_result"
    }
   ],
   "source": [
    "kc_unique = pd.unique(df[['KC1','KC2','KC3']].values.ravel())\n",
    "len(kc_unique)"
   ]
  },
  {
   "cell_type": "code",
   "execution_count": 27,
   "metadata": {
    "collapsed": true
   },
   "outputs": [],
   "source": [
    "df_student = df.loc[df['Anon Student Id'] == '0BrbPbwCMz']"
   ]
  },
  {
   "cell_type": "code",
   "execution_count": 37,
   "metadata": {
    "collapsed": false
   },
   "outputs": [
    {
     "data": {
      "text/plain": [
       "0      [SkillRule: Eliminate Parens; {CLT nested; CLT...\n",
       "1      [SkillRule: Remove constant; {ax+b=c, positive...\n",
       "2      [SkillRule: Remove constant; {ax+b=c, positive...\n",
       "3      [SkillRule: Remove coefficient; {ax+b=c, divid...\n",
       "4      [SkillRule: Remove constant; {ax+b=c, positive...\n",
       "5      [SkillRule: Remove coefficient; {ax+b=c, divid...\n",
       "6      [SkillRule: Remove constant; {ax+b=c, positive...\n",
       "7      [SkillRule: Remove positive coefficient; {ax/b...\n",
       "8      [SkillRule: Remove constant; {ax+b=c, positive...\n",
       "9      [SkillRule: Remove positive coefficient; {ax/b...\n",
       "10     [SkillRule: Remove constant; {ax+b=c, positive...\n",
       "11     [SkillRule: Add/Subtract; [Typein Skill: {Isol...\n",
       "12     [SkillRule: Remove coefficient; {ax+b=c, divid...\n",
       "13     [SkillRule: Multiply/Divide; [Typein Skill: {R...\n",
       "14     [SkillRule: Remove constant; {ax+b=c, positive...\n",
       "15     [SkillRule: Add/Subtract; [Typein Skill: {Isol...\n",
       "16     [SkillRule: Remove positive coefficient; {ax/b...\n",
       "17     [SkillRule: Multiply/Divide; [Typein Skill: {R...\n",
       "18     [SkillRule: Remove constant; {ax+b=c, positive...\n",
       "19     [SkillRule: Add/Subtract; [Typein Skill: {Isol...\n",
       "20     [SkillRule: Remove coefficient; {ax+b=c, divid...\n",
       "21     [SkillRule: Multiply/Divide; [Typein Skill: {R...\n",
       "22     [SkillRule: Remove constant; {ax+b=c, positive...\n",
       "23     [SkillRule: Add/Subtract; [Typein Skill: {Isol...\n",
       "24         [SkillRule: Consolidate vars with coeff; CLT]\n",
       "25                                 combine-like-terms-sp\n",
       "26     [SkillRule: Remove positive coefficient; {ax/b...\n",
       "27     [SkillRule: Multiply/Divide; [Typein Skill: {R...\n",
       "28     [SkillRule: Eliminate Parens; {CLT nested; CLT...\n",
       "29     [SkillRule: Remove constant; {ax+b=c, positive...\n",
       "                             ...                        \n",
       "682        [SkillRule: Consolidate vars with coeff; CLT]\n",
       "683    [SkillRule: Extract to consolidate vars; {fact...\n",
       "684    [SkillRule: Remove coefficient; {ax+b=c, divid...\n",
       "685                                                  NaN\n",
       "686    [SkillRule: Extract to consolidate vars; {fact...\n",
       "687    [SkillRule: Remove coefficient; {ax+b=c, divid...\n",
       "688                                                  NaN\n",
       "689    [SkillRule: Extract to consolidate vars; {fact...\n",
       "690    [SkillRule: Remove coefficient; {ax+b=c, divid...\n",
       "691                                                  NaN\n",
       "692    [SkillRule: Extract to consolidate vars; {fact...\n",
       "693    [SkillRule: Remove coefficient; {ax+b=c, divid...\n",
       "694                                                  NaN\n",
       "695    [SkillRule: Extract to consolidate vars; {fact...\n",
       "696                                                  NaN\n",
       "697                                                  NaN\n",
       "698                                                  NaN\n",
       "699                                            factor-sp\n",
       "700    [SkillRule: Extract to consolidate vars; {fact...\n",
       "701                                                  NaN\n",
       "702                                                  NaN\n",
       "703                                                  NaN\n",
       "704                                            factor-sp\n",
       "705    [SkillRule: Remove coefficient; {ax+b=c, divid...\n",
       "706    [SkillRule: Multiply/Divide; [Typein Skill: {R...\n",
       "707    [SkillRule: Extract to consolidate vars; {fact...\n",
       "708                                                  NaN\n",
       "709                                                  NaN\n",
       "710                                                  NaN\n",
       "711                                            factor-sp\n",
       "Name: KC(Default), dtype: object"
      ]
     },
     "execution_count": 37,
     "metadata": {},
     "output_type": "execute_result"
    }
   ],
   "source": [
    "df_student['KC(Default)']"
   ]
  },
  {
   "cell_type": "code",
   "execution_count": 29,
   "metadata": {
    "collapsed": false
   },
   "outputs": [
    {
     "data": {
      "text/plain": [
       "37"
      ]
     },
     "execution_count": 29,
     "metadata": {},
     "output_type": "execute_result"
    }
   ],
   "source": [
    "kc_unique = pd.unique(df_student[['KC1','KC2','KC3','KC4','KC5','KC6','KC7', ]].values.ravel())\n",
    "len(kc_unique)"
   ]
  },
  {
   "cell_type": "code",
   "execution_count": 30,
   "metadata": {
    "collapsed": false
   },
   "outputs": [
    {
     "data": {
      "text/plain": [
       "array([ '[SkillRule: Eliminate Parens; {CLT nested; CLT nested, parens; Distribute Mult right; Distribute Mult left; (+/-x +/-a)/b=c, mult; (+/-x +/-a)*b=c, div; [var expr]/[const expr] = [const expr], multiply; Distribute Division left; Distribute Division right; Distribute both mult left; Distribute both mult right; Distribute both divide left; Distribute both divide right; Distribute subex}]',\n",
       "       None,\n",
       "       '[SkillRule: Remove constant; {ax+b=c, positive; ax+b=c, negative; x+a=b, positive; x+a=b, negative; [var expr]+[const expr]=[const expr], positive; [var expr]+[const expr]=[const expr], negative; [var expr]+[const expr]=[const expr], all; Combine constants to right; Combine constants to left; a-x=b, positive; a/x+b=c, positive; a/x+b=c, negative}]',\n",
       "       '[SkillRule: Isolate positive; x+a=b, positive]',\n",
       "       '[SkillRule: Remove coefficient; {ax+b=c, divide; ax=b; [const expr]*[var fact] + [const expr] = [const expr], divide; [var expr]*[const expr] = [const expr], divide; a/b*x=c; a/b*x=c, reciprocal; ax/b=c, reciprocal; ax/b=c; x/a=b; ax=b; (+/-x +/-a)/b=c, mult; a=x*(b+c); a=x*(b-c); a=x*(b*c+d); x/a+b=c, multiply; [var expr]/[const expr] = [const expr], multiply}]',\n",
       "       '[SkillRule: Remove negative coefficient; {ax/b=c, reciprocal; ax/b=c; ax=b; x/a=b}]',\n",
       "       '[SkillRule: ax+b=c, negative; ax+b=c, negative]',\n",
       "       '[SkillRule: Remove positive coefficient; {ax/b=c, reciprocal; ax/b=c; x/a=b; ax=b}]',\n",
       "       '[SkillRule: Add/Subtract; [Typein Skill: {Isolate positive; Isolate negative; Remove constant; Consolidate vars, no coeff; Consolidate vars with coeff; Consolidate vars, any}]]',\n",
       "       '[SkillRule: Multiply/Divide; [Typein Skill: {Remove coefficient; Variable in denominator}]]',\n",
       "       '[SkillRule: Consolidate vars with coeff; CLT]',\n",
       "       'combine-like-terms-sp',\n",
       "       '[SkillRule: Isolate negative; x+a=b, negative]',\n",
       "       '[SkillRule: Calculate Eliminate Parens; [Typein Skill: Eliminate Parens]]',\n",
       "       nan, 'simplify-fractions-sp',\n",
       "       '[SkillRule: Consolidate vars, no coeff; CLT]',\n",
       "       '[SkillRule: Select Combine Terms; CLT]', 'distribute-sp',\n",
       "       '[SkillRule: Variable in denominator; {a/x=[anything]; a/x=b; a/x=b, sophisticated}]',\n",
       "       '[SkillRule: Extract to consolidate vars; {factor; factorb; factorc; factord}]',\n",
       "       '[SkillRule: Done?; {doneleft; doneright; done no solution; Done No Solution, domain exception; Done No Solution, range exception; done infinite solutions}]',\n",
       "       'factor-sp',\n",
       "       '[SkillRule: Eliminate Parens; {[var expr]/[const expr] = [const expr], multiply; [var expr]*[const expr] = [const expr], divide}]',\n",
       "       '[SkillRule: Make variable positive; {ax+b=c, divide; ax=b; [const expr]*[var fact] + [const expr] = [const expr], divide; [var expr]*[const expr] = [const expr], divide; a/b*x=c; a/b*x=c, reciprocal; ax/b=c, reciprocal; ax/b=c; x/a=b; ax=b; (+/-x +/-a)/b=c, mult; a=x*(b+c); a=x*(b-c); a=x*(b*c+d); x/a+b=c, multiply; [var expr]/[const expr] = [const expr], multiply}]',\n",
       "       '[SkillRule: invert-mult; {ivm}]', 'Define Variable',\n",
       "       'Identifying units', 'Using simple numbers',\n",
       "       'Write expression, positive slope', 'Using large numbers',\n",
       "       'Entering a given', 'Find X, positive slope',\n",
       "       'Convert unit, standard', 'Using small numbers',\n",
       "       'Using difficult numbers', 'Find Y, any form'], dtype=object)"
      ]
     },
     "execution_count": 30,
     "metadata": {},
     "output_type": "execute_result"
    }
   ],
   "source": [
    "kc_unique"
   ]
  },
  {
   "cell_type": "code",
   "execution_count": null,
   "metadata": {
    "collapsed": false
   },
   "outputs": [],
   "source": []
  },
  {
   "cell_type": "code",
   "execution_count": 31,
   "metadata": {
    "collapsed": false
   },
   "outputs": [],
   "source": [
    "df_kc = pd.DataFrame(data=kc_unique[0:])"
   ]
  },
  {
   "cell_type": "code",
   "execution_count": 32,
   "metadata": {
    "collapsed": false
   },
   "outputs": [
    {
     "data": {
      "text/html": [
       "<div>\n",
       "<table border=\"1\" class=\"dataframe\">\n",
       "  <thead>\n",
       "    <tr style=\"text-align: right;\">\n",
       "      <th></th>\n",
       "      <th>0</th>\n",
       "    </tr>\n",
       "  </thead>\n",
       "  <tbody>\n",
       "    <tr>\n",
       "      <th>0</th>\n",
       "      <td>[SkillRule: Eliminate Parens; {CLT nested; CLT...</td>\n",
       "    </tr>\n",
       "    <tr>\n",
       "      <th>2</th>\n",
       "      <td>[SkillRule: Remove constant; {ax+b=c, positive...</td>\n",
       "    </tr>\n",
       "    <tr>\n",
       "      <th>3</th>\n",
       "      <td>[SkillRule: Isolate positive; x+a=b, positive]</td>\n",
       "    </tr>\n",
       "    <tr>\n",
       "      <th>4</th>\n",
       "      <td>[SkillRule: Remove coefficient; {ax+b=c, divid...</td>\n",
       "    </tr>\n",
       "    <tr>\n",
       "      <th>5</th>\n",
       "      <td>[SkillRule: Remove negative coefficient; {ax/b...</td>\n",
       "    </tr>\n",
       "    <tr>\n",
       "      <th>6</th>\n",
       "      <td>[SkillRule: ax+b=c, negative; ax+b=c, negative]</td>\n",
       "    </tr>\n",
       "    <tr>\n",
       "      <th>7</th>\n",
       "      <td>[SkillRule: Remove positive coefficient; {ax/b...</td>\n",
       "    </tr>\n",
       "    <tr>\n",
       "      <th>8</th>\n",
       "      <td>[SkillRule: Add/Subtract; [Typein Skill: {Isol...</td>\n",
       "    </tr>\n",
       "    <tr>\n",
       "      <th>9</th>\n",
       "      <td>[SkillRule: Multiply/Divide; [Typein Skill: {R...</td>\n",
       "    </tr>\n",
       "    <tr>\n",
       "      <th>10</th>\n",
       "      <td>[SkillRule: Consolidate vars with coeff; CLT]</td>\n",
       "    </tr>\n",
       "    <tr>\n",
       "      <th>11</th>\n",
       "      <td>combine-like-terms-sp</td>\n",
       "    </tr>\n",
       "    <tr>\n",
       "      <th>12</th>\n",
       "      <td>[SkillRule: Isolate negative; x+a=b, negative]</td>\n",
       "    </tr>\n",
       "    <tr>\n",
       "      <th>13</th>\n",
       "      <td>[SkillRule: Calculate Eliminate Parens; [Typei...</td>\n",
       "    </tr>\n",
       "    <tr>\n",
       "      <th>15</th>\n",
       "      <td>simplify-fractions-sp</td>\n",
       "    </tr>\n",
       "    <tr>\n",
       "      <th>16</th>\n",
       "      <td>[SkillRule: Consolidate vars, no coeff; CLT]</td>\n",
       "    </tr>\n",
       "    <tr>\n",
       "      <th>17</th>\n",
       "      <td>[SkillRule: Select Combine Terms; CLT]</td>\n",
       "    </tr>\n",
       "    <tr>\n",
       "      <th>18</th>\n",
       "      <td>distribute-sp</td>\n",
       "    </tr>\n",
       "    <tr>\n",
       "      <th>19</th>\n",
       "      <td>[SkillRule: Variable in denominator; {a/x=[any...</td>\n",
       "    </tr>\n",
       "    <tr>\n",
       "      <th>20</th>\n",
       "      <td>[SkillRule: Extract to consolidate vars; {fact...</td>\n",
       "    </tr>\n",
       "    <tr>\n",
       "      <th>21</th>\n",
       "      <td>[SkillRule: Done?; {doneleft; doneright; done ...</td>\n",
       "    </tr>\n",
       "    <tr>\n",
       "      <th>22</th>\n",
       "      <td>factor-sp</td>\n",
       "    </tr>\n",
       "    <tr>\n",
       "      <th>23</th>\n",
       "      <td>[SkillRule: Eliminate Parens; {[var expr]/[con...</td>\n",
       "    </tr>\n",
       "    <tr>\n",
       "      <th>24</th>\n",
       "      <td>[SkillRule: Make variable positive; {ax+b=c, d...</td>\n",
       "    </tr>\n",
       "    <tr>\n",
       "      <th>25</th>\n",
       "      <td>[SkillRule: invert-mult; {ivm}]</td>\n",
       "    </tr>\n",
       "    <tr>\n",
       "      <th>26</th>\n",
       "      <td>Define Variable</td>\n",
       "    </tr>\n",
       "    <tr>\n",
       "      <th>27</th>\n",
       "      <td>Identifying units</td>\n",
       "    </tr>\n",
       "    <tr>\n",
       "      <th>28</th>\n",
       "      <td>Using simple numbers</td>\n",
       "    </tr>\n",
       "    <tr>\n",
       "      <th>29</th>\n",
       "      <td>Write expression, positive slope</td>\n",
       "    </tr>\n",
       "    <tr>\n",
       "      <th>30</th>\n",
       "      <td>Using large numbers</td>\n",
       "    </tr>\n",
       "    <tr>\n",
       "      <th>31</th>\n",
       "      <td>Entering a given</td>\n",
       "    </tr>\n",
       "    <tr>\n",
       "      <th>32</th>\n",
       "      <td>Find X, positive slope</td>\n",
       "    </tr>\n",
       "    <tr>\n",
       "      <th>33</th>\n",
       "      <td>Convert unit, standard</td>\n",
       "    </tr>\n",
       "    <tr>\n",
       "      <th>34</th>\n",
       "      <td>Using small numbers</td>\n",
       "    </tr>\n",
       "    <tr>\n",
       "      <th>35</th>\n",
       "      <td>Using difficult numbers</td>\n",
       "    </tr>\n",
       "    <tr>\n",
       "      <th>36</th>\n",
       "      <td>Find Y, any form</td>\n",
       "    </tr>\n",
       "  </tbody>\n",
       "</table>\n",
       "</div>"
      ],
      "text/plain": [
       "                                                    0\n",
       "0   [SkillRule: Eliminate Parens; {CLT nested; CLT...\n",
       "2   [SkillRule: Remove constant; {ax+b=c, positive...\n",
       "3      [SkillRule: Isolate positive; x+a=b, positive]\n",
       "4   [SkillRule: Remove coefficient; {ax+b=c, divid...\n",
       "5   [SkillRule: Remove negative coefficient; {ax/b...\n",
       "6     [SkillRule: ax+b=c, negative; ax+b=c, negative]\n",
       "7   [SkillRule: Remove positive coefficient; {ax/b...\n",
       "8   [SkillRule: Add/Subtract; [Typein Skill: {Isol...\n",
       "9   [SkillRule: Multiply/Divide; [Typein Skill: {R...\n",
       "10      [SkillRule: Consolidate vars with coeff; CLT]\n",
       "11                              combine-like-terms-sp\n",
       "12     [SkillRule: Isolate negative; x+a=b, negative]\n",
       "13  [SkillRule: Calculate Eliminate Parens; [Typei...\n",
       "15                              simplify-fractions-sp\n",
       "16       [SkillRule: Consolidate vars, no coeff; CLT]\n",
       "17             [SkillRule: Select Combine Terms; CLT]\n",
       "18                                      distribute-sp\n",
       "19  [SkillRule: Variable in denominator; {a/x=[any...\n",
       "20  [SkillRule: Extract to consolidate vars; {fact...\n",
       "21  [SkillRule: Done?; {doneleft; doneright; done ...\n",
       "22                                          factor-sp\n",
       "23  [SkillRule: Eliminate Parens; {[var expr]/[con...\n",
       "24  [SkillRule: Make variable positive; {ax+b=c, d...\n",
       "25                    [SkillRule: invert-mult; {ivm}]\n",
       "26                                    Define Variable\n",
       "27                                  Identifying units\n",
       "28                               Using simple numbers\n",
       "29                   Write expression, positive slope\n",
       "30                                Using large numbers\n",
       "31                                   Entering a given\n",
       "32                             Find X, positive slope\n",
       "33                             Convert unit, standard\n",
       "34                                Using small numbers\n",
       "35                            Using difficult numbers\n",
       "36                                   Find Y, any form"
      ]
     },
     "execution_count": 32,
     "metadata": {},
     "output_type": "execute_result"
    }
   ],
   "source": [
    "df_kc = df_kc.fillna(\"None\")\n",
    "df_kc = df_kc[df_kc[0] != 'None']\n",
    "df_kc"
   ]
  },
  {
   "cell_type": "code",
   "execution_count": 33,
   "metadata": {
    "collapsed": false
   },
   "outputs": [
    {
     "ename": "ValueError",
     "evalue": "cannot index with vector containing NA / NaN values",
     "output_type": "error",
     "traceback": [
      "\u001b[0;31m---------------------------------------------------------------------------\u001b[0m",
      "\u001b[0;31mValueError\u001b[0m                                Traceback (most recent call last)",
      "\u001b[0;32m<ipython-input-33-2e171b0794cc>\u001b[0m in \u001b[0;36m<module>\u001b[0;34m()\u001b[0m\n\u001b[0;32m----> 1\u001b[0;31m \u001b[0mdf_test\u001b[0m \u001b[0;34m=\u001b[0m \u001b[0mdf_student\u001b[0m\u001b[0;34m.\u001b[0m\u001b[0mloc\u001b[0m\u001b[0;34m[\u001b[0m\u001b[0mdf_student\u001b[0m\u001b[0;34m[\u001b[0m\u001b[0;34m'KC(Default)'\u001b[0m\u001b[0;34m]\u001b[0m\u001b[0;34m.\u001b[0m\u001b[0mstr\u001b[0m\u001b[0;34m.\u001b[0m\u001b[0mcontains\u001b[0m\u001b[0;34m(\u001b[0m\u001b[0mdf_kc\u001b[0m\u001b[0;34m[\u001b[0m\u001b[0;36m0\u001b[0m\u001b[0;34m]\u001b[0m\u001b[0;34m[\u001b[0m\u001b[0;36m2\u001b[0m\u001b[0;34m]\u001b[0m\u001b[0;34m)\u001b[0m\u001b[0;34m]\u001b[0m\u001b[0;34m\u001b[0m\u001b[0m\n\u001b[0m\u001b[1;32m      2\u001b[0m \u001b[0mdf_test\u001b[0m\u001b[0;34m\u001b[0m\u001b[0m\n",
      "\u001b[0;32m/Users/naziahabib/anaconda/lib/python2.7/site-packages/pandas/core/indexing.pyc\u001b[0m in \u001b[0;36m__getitem__\u001b[0;34m(self, key)\u001b[0m\n\u001b[1;32m   1294\u001b[0m             \u001b[0;32mreturn\u001b[0m \u001b[0mself\u001b[0m\u001b[0;34m.\u001b[0m\u001b[0m_getitem_tuple\u001b[0m\u001b[0;34m(\u001b[0m\u001b[0mkey\u001b[0m\u001b[0;34m)\u001b[0m\u001b[0;34m\u001b[0m\u001b[0m\n\u001b[1;32m   1295\u001b[0m         \u001b[0;32melse\u001b[0m\u001b[0;34m:\u001b[0m\u001b[0;34m\u001b[0m\u001b[0m\n\u001b[0;32m-> 1296\u001b[0;31m             \u001b[0;32mreturn\u001b[0m \u001b[0mself\u001b[0m\u001b[0;34m.\u001b[0m\u001b[0m_getitem_axis\u001b[0m\u001b[0;34m(\u001b[0m\u001b[0mkey\u001b[0m\u001b[0;34m,\u001b[0m \u001b[0maxis\u001b[0m\u001b[0;34m=\u001b[0m\u001b[0;36m0\u001b[0m\u001b[0;34m)\u001b[0m\u001b[0;34m\u001b[0m\u001b[0m\n\u001b[0m\u001b[1;32m   1297\u001b[0m \u001b[0;34m\u001b[0m\u001b[0m\n\u001b[1;32m   1298\u001b[0m     \u001b[0;32mdef\u001b[0m \u001b[0m_getitem_axis\u001b[0m\u001b[0;34m(\u001b[0m\u001b[0mself\u001b[0m\u001b[0;34m,\u001b[0m \u001b[0mkey\u001b[0m\u001b[0;34m,\u001b[0m \u001b[0maxis\u001b[0m\u001b[0;34m=\u001b[0m\u001b[0;36m0\u001b[0m\u001b[0;34m)\u001b[0m\u001b[0;34m:\u001b[0m\u001b[0;34m\u001b[0m\u001b[0m\n",
      "\u001b[0;32m/Users/naziahabib/anaconda/lib/python2.7/site-packages/pandas/core/indexing.pyc\u001b[0m in \u001b[0;36m_getitem_axis\u001b[0;34m(self, key, axis)\u001b[0m\n\u001b[1;32m   1436\u001b[0m             \u001b[0mself\u001b[0m\u001b[0;34m.\u001b[0m\u001b[0m_has_valid_type\u001b[0m\u001b[0;34m(\u001b[0m\u001b[0mkey\u001b[0m\u001b[0;34m,\u001b[0m \u001b[0maxis\u001b[0m\u001b[0;34m)\u001b[0m\u001b[0;34m\u001b[0m\u001b[0m\n\u001b[1;32m   1437\u001b[0m             \u001b[0;32mreturn\u001b[0m \u001b[0mself\u001b[0m\u001b[0;34m.\u001b[0m\u001b[0m_get_slice_axis\u001b[0m\u001b[0;34m(\u001b[0m\u001b[0mkey\u001b[0m\u001b[0;34m,\u001b[0m \u001b[0maxis\u001b[0m\u001b[0;34m=\u001b[0m\u001b[0maxis\u001b[0m\u001b[0;34m)\u001b[0m\u001b[0;34m\u001b[0m\u001b[0m\n\u001b[0;32m-> 1438\u001b[0;31m         \u001b[0;32melif\u001b[0m \u001b[0mis_bool_indexer\u001b[0m\u001b[0;34m(\u001b[0m\u001b[0mkey\u001b[0m\u001b[0;34m)\u001b[0m\u001b[0;34m:\u001b[0m\u001b[0;34m\u001b[0m\u001b[0m\n\u001b[0m\u001b[1;32m   1439\u001b[0m             \u001b[0;32mreturn\u001b[0m \u001b[0mself\u001b[0m\u001b[0;34m.\u001b[0m\u001b[0m_getbool_axis\u001b[0m\u001b[0;34m(\u001b[0m\u001b[0mkey\u001b[0m\u001b[0;34m,\u001b[0m \u001b[0maxis\u001b[0m\u001b[0;34m=\u001b[0m\u001b[0maxis\u001b[0m\u001b[0;34m)\u001b[0m\u001b[0;34m\u001b[0m\u001b[0m\n\u001b[1;32m   1440\u001b[0m         \u001b[0;32melif\u001b[0m \u001b[0mis_list_like_indexer\u001b[0m\u001b[0;34m(\u001b[0m\u001b[0mkey\u001b[0m\u001b[0;34m)\u001b[0m\u001b[0;34m:\u001b[0m\u001b[0;34m\u001b[0m\u001b[0m\n",
      "\u001b[0;32m/Users/naziahabib/anaconda/lib/python2.7/site-packages/pandas/core/common.pyc\u001b[0m in \u001b[0;36mis_bool_indexer\u001b[0;34m(key)\u001b[0m\n\u001b[1;32m   1208\u001b[0m             \u001b[0;32mif\u001b[0m \u001b[0;32mnot\u001b[0m \u001b[0mlib\u001b[0m\u001b[0;34m.\u001b[0m\u001b[0mis_bool_array\u001b[0m\u001b[0;34m(\u001b[0m\u001b[0mkey\u001b[0m\u001b[0;34m)\u001b[0m\u001b[0;34m:\u001b[0m\u001b[0;34m\u001b[0m\u001b[0m\n\u001b[1;32m   1209\u001b[0m                 \u001b[0;32mif\u001b[0m \u001b[0misnull\u001b[0m\u001b[0;34m(\u001b[0m\u001b[0mkey\u001b[0m\u001b[0;34m)\u001b[0m\u001b[0;34m.\u001b[0m\u001b[0many\u001b[0m\u001b[0;34m(\u001b[0m\u001b[0;34m)\u001b[0m\u001b[0;34m:\u001b[0m\u001b[0;34m\u001b[0m\u001b[0m\n\u001b[0;32m-> 1210\u001b[0;31m                     raise ValueError('cannot index with vector containing '\n\u001b[0m\u001b[1;32m   1211\u001b[0m                                      'NA / NaN values')\n\u001b[1;32m   1212\u001b[0m                 \u001b[0;32mreturn\u001b[0m \u001b[0mFalse\u001b[0m\u001b[0;34m\u001b[0m\u001b[0m\n",
      "\u001b[0;31mValueError\u001b[0m: cannot index with vector containing NA / NaN values"
     ]
    }
   ],
   "source": [
    "df_test = df_student.loc[df_student['KC(Default)'].str.contains(df_kc[0][2])]\n",
    "df_test"
   ]
  },
  {
   "cell_type": "code",
   "execution_count": 38,
   "metadata": {
    "collapsed": false
   },
   "outputs": [],
   "source": [
    "df_test['Opportunity(Default)'] = pd.to_numeric(df_test['Opportunity(Default)'])"
   ]
  },
  {
   "cell_type": "code",
   "execution_count": 39,
   "metadata": {
    "collapsed": false
   },
   "outputs": [
    {
     "data": {
      "text/plain": [
       "115"
      ]
     },
     "execution_count": 39,
     "metadata": {},
     "output_type": "execute_result"
    }
   ],
   "source": [
    "df_test['Opportunity(Default)'].max()"
   ]
  },
  {
   "cell_type": "code",
   "execution_count": null,
   "metadata": {
    "collapsed": false
   },
   "outputs": [],
   "source": [
    "#for each student\n",
    "    #get each KC student has encountered\n",
    "    #find max value of Opportunity for each KC in df_kc"
   ]
  },
  {
   "cell_type": "code",
   "execution_count": 152,
   "metadata": {
    "collapsed": false
   },
   "outputs": [],
   "source": [
    "df_kc = df_kc[df_kc[0] != 'None']"
   ]
  },
  {
   "cell_type": "code",
   "execution_count": 1,
   "metadata": {
    "collapsed": false
   },
   "outputs": [
    {
     "ename": "NameError",
     "evalue": "name 'df' is not defined",
     "output_type": "error",
     "traceback": [
      "\u001b[0;31m---------------------------------------------------------------------------\u001b[0m",
      "\u001b[0;31mNameError\u001b[0m                                 Traceback (most recent call last)",
      "\u001b[0;32m<ipython-input-1-d9b8ffbffd00>\u001b[0m in \u001b[0;36m<module>\u001b[0;34m()\u001b[0m\n\u001b[0;32m----> 1\u001b[0;31m \u001b[0mdf\u001b[0m\u001b[0;34m.\u001b[0m\u001b[0mgroupby\u001b[0m\u001b[0;34m(\u001b[0m\u001b[0;34m[\u001b[0m\u001b[0;34m'Anon Student Id'\u001b[0m\u001b[0;34m,\u001b[0m\u001b[0;34m'KC(Default)'\u001b[0m\u001b[0;34m]\u001b[0m\u001b[0;34m)\u001b[0m\u001b[0;34m[\u001b[0m\u001b[0;34m'Opportunity(Default)'\u001b[0m\u001b[0;34m]\u001b[0m\u001b[0;34m.\u001b[0m\u001b[0mmax\u001b[0m\u001b[0;34m(\u001b[0m\u001b[0;34m)\u001b[0m\u001b[0;34m\u001b[0m\u001b[0m\n\u001b[0m",
      "\u001b[0;31mNameError\u001b[0m: name 'df' is not defined"
     ]
    }
   ],
   "source": [
    "df.groupby(['Anon Student Id','KC(Default)'])['Opportunity(Default)'].max()"
   ]
  },
  {
   "cell_type": "code",
   "execution_count": null,
   "metadata": {
    "collapsed": true
   },
   "outputs": [],
   "source": []
  }
 ],
 "metadata": {
  "kernelspec": {
   "display_name": "Python [Root]",
   "language": "python",
   "name": "Python [Root]"
  },
  "language_info": {
   "codemirror_mode": {
    "name": "ipython",
    "version": 2
   },
   "file_extension": ".py",
   "mimetype": "text/x-python",
   "name": "python",
   "nbconvert_exporter": "python",
   "pygments_lexer": "ipython2",
   "version": "2.7.12"
  }
 },
 "nbformat": 4,
 "nbformat_minor": 0
}
