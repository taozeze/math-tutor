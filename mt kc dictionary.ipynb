{
 "cells": [
  {
   "cell_type": "code",
   "execution_count": 3,
   "metadata": {},
   "outputs": [
    {
     "name": "stderr",
     "output_type": "stream",
     "text": [
      "Using TensorFlow backend.\n"
     ]
    }
   ],
   "source": [
    "import pandas as pd\n",
    "import numpy as np\n",
    "import csv as csv\n",
    "import matplotlib.pyplot as plt\n",
    "%matplotlib inline \n",
    "import keras\n",
    "from keras.utils import np_utils\n",
    "from sklearn.ensemble import RandomForestClassifier\n",
    "from sklearn.tree import DecisionTreeClassifier \n",
    "from sklearn.svm import SVC\n",
    "from sklearn.naive_bayes import GaussianNB\n",
    "from sklearn.datasets import make_classification"
   ]
  },
  {
   "cell_type": "code",
   "execution_count": 4,
   "metadata": {
    "collapsed": true
   },
   "outputs": [],
   "source": [
    "df = pd.read_pickle('mtpickle.p')\n",
    "df_dict = pd.read_pickle('kclistpickle.p')"
   ]
  },
  {
   "cell_type": "code",
   "execution_count": 3,
   "metadata": {
    "collapsed": true
   },
   "outputs": [],
   "source": [
    "kc = ['Changing axis bounds',                                                                                                                                                                                                                                                                                                                                                                                                                                                                                                                                                                                        \n",
    "'Changing axis intervals',                                                                                                                                                                                                                                                                                                                                                                                                                                                                                                                                                                                                                                                             \n",
    "'Choose Graphical Refl-v',                                                                                                                                                                                                                                                                                                                                                                                                                                                                                                                                                                                                                                                             \n",
    "'Choose Graphical a',                                                                                                                                                                                                                                                                                                                                                                                                                                                                                                                                                                                                                                                                  \n",
    "'Choose Graphical h',                                                                                                                                                                                                                                                                                                                                                                                                                                                                                                                                                                                                                                                                  \n",
    "'Choose Graphical k',                                                                                                                                                                                                                                                                                                                                                                                                                                                                                                                                                                                                                                                                  \n",
    "'Convert unit, mixed',                                                                                                                                                                                                                                                                                                                                                                                                                                                                                                                                                                                                                                                                 \n",
    "'Convert unit, multiplier',                                                                                                                                                                                                                                                                                                                                                                                                                                                                                                                                                                                                                                                            \n",
    "'Convert unit, standard',                                                                                                                                                                                                                                                                                                                                                                                                                                                                                                                                                                                                                                                              \n",
    "'Correctly placing points',                                                                                                                                                                                                                                                                                                                                                                                                                                                                                                                                                                                                                                                            \n",
    "'Define Variable',                                                                                                                                                                                                                                                                                                                                                                                                                                                                                                                                                                                                                                                                     \n",
    "'Edit Algebraic a',                                                                                                                                                                                                                                                                                                                                                                                                                                                                                                                                                                                                                                                                    \n",
    "'Edit Algebraic h',                                                                                                                                                                                                                                                                                                                                                                                                                                                                                                                                                                                                                                                                    \n",
    "'Edit Algebraic k',                                                                                                                                                                                                                                                                                                                                                                                                                                                                                                                                                                                                                                                                    \n",
    "'Edit Algebraic refl-v',                                                                                                                                                                                                                                                                                                                                                                                                                                                                                                                                                                                                                                                               \n",
    "'Entering a computed linear value',                                                                                                                                                                                                                                                                                                                                                                                                                                                                                                                                                                                                                                                    \n",
    "'Entering a computed quadratic value  ',                                                                                                                                                                                                                                                                                                                                                                                                                                                                                                                                                                                                                                               \n",
    "'Entering a given',                                                                                                                                                                                                                                                                                                                                                                                                                                                                                                                                                                                                                                                                    \n",
    "'Entering a given linear value',                                                                                                                                                                                                                                                                                                                                                                                                                                                                                                                                                                                                                                                       \n",
    "'Entering a given quadratic value',                                                                                                                                                                                                                                                                                                                                                                                                                                                                                                                                                                                                                                                    \n",
    "'Entering a point',                                                                                                                                                                                                                                                                                                                                                                                                                                                                                                                                                                                                                                                                    \n",
    "'Entering slope, GLF',                                                                                                                                                                                                                                                                                                                                                                                                                                                                                                                                                                                                                                                                 \n",
    "'Entering slope, SIF',                                                                                                                                                                                                                                                                                                                                                                                                                                                                                                                                                                                                                                                                 \n",
    "'Entering the slope',                                                                                                                                                                                                                                                                                                                                                                                                                                                                                                                                                                                                                                                                  \n",
    "'Entering the y-intercept',                                                                                                                                                                                                                                                                                                                                                                                                                                                                                                                                                                                                                                                            \n",
    "'Entering x-intercept, GLF',                                                                                                                                                                                                                                                                                                                                                                                                                                                                                                                                                                                                                                                           \n",
    "'Entering x-intercept, SIF',                                                                                                                                                                                                                                                                                                                                                                                                                                                                                                                                                                                                                                                           \n",
    "'Entering y-intercept, GLF',                                                                                                                                                                                                                                                                                                                                                                                                                                                                                                                                                                                                                                                           \n",
    "'Entering y-intercept, SIF',                                                                                                                                                                                                                                                                                                                                                                                                                                                                                                                                                                                                                                                           \n",
    "'Excluding the line when shading',                                                                                                                                                                                                                                                                                                                                                                                                                                                                                                                                                                                                                                                     \n",
    "'Find X, Simple',                                                                                                                                                                                                                                                                                                                                                                                                                                                                                                                                                                                                                                                                      \n",
    "'Find X, negative slope',                                                                                                                                                                                                                                                                                                                                                                                                                                                                                                                                                                                                                                                              \n",
    "'Find X, positive slope',                                                                                                                                                                                                                                                                                                                                                                                                                                                                                                                                                                                                                                                              \n",
    "'Find Y, Simple',                                                                                                                                                                                                                                                                                                                                                                                                                                                                                                                                                                                                                                                                     \n",
    "'Find Y, any form',                                                                                                                                                                                                                                                                                                                                                                                                                                                                                                                                                                                                                                                                    \n",
    "'Find Y, negative slope',                                                                                                                                                                                                                                                                                                                                                                                                                                                                                                                                                                                                                                                              \n",
    "'Find Y, positive slope',                                                                                                                                                                                                                                                                                                                                                                                                                                                                                                                                                                                                                                                              \n",
    "'Identify Parent Curve',                                                                                                                                                                                                                                                                                                                                                                                                                                                                                                                                                                                                                                                               \n",
    "'Identify Parent Description',                                                                                                                                                                                                                                                                                                                                                                                                                                                                                                                                                                                                                                                         \n",
    "'Identify Parent Equation',                                                                                                                                                                                                                                                                                                                                                                                                                                                                                                                                                                                                                                                            \n",
    "'Identifying units',                                                                                                                                                                                                                                                                                                                                                                                                                                                                                                                                                                                                                                                                   \n",
    "'Including the line when shading',                                                                                                                                                                                                                                                                                                                                                                                                                                                                                                                                                                                                                                                     \n",
    "'Labelling point of intersection',                                                                                                                                                                                                                                                                                                                                                                                                                                                                                                                                                                                                                                                     \n",
    "'Labelling the axes',                                                                                                                                                                                                                                                                                                                                                                                                                                                                                                                                                                                                                                                                  \n",
    "'Negative Constant, GLF',                                                                                                                                                                                                                                                                                                                                                                                                                                                                                                                                                                                                                                                              \n",
    "'Negative Constant, SIF',                                                                                                                                                                                                                                                                                                                                                                                                                                                                                                                                                                                                                                                              \n",
    "'Placing coordinate point',                                                                                                                                                                                                                                                                                                                                                                                                                                                                                                                                                                                                                                                            \n",
    "'Positive Constants, GLF',                                                                                                                                                                                                                                                                                                                                                                                                                                                                                                                                                                                                                                                             \n",
    "'Positive Constants, SIF',                                                                                                                                                                                                                                                                                                                                                                                                                                                                                                                                                                                                                                                             \n",
    "'Setting the slope',                                                                                                                                                                                                                                                                                                                                                                                                                                                                                                                                                                                                                                                                   \n",
    "'Setting the y-intercept',                                                                                                                                                                                                                                                                                                                                                                                                                                                                                                                                                                                                                                                             \n",
    "'Shading GLF equation with negative slope',                                                                                                                                                                                                                                                                                                                                                                                                                                                                                                                                                                                                                                            \n",
    "'Shading GLF equation with positive slope',                                                                                                                                                                                                                                                                                                                                                                                                                                                                                                                                                                                                                                            \n",
    "'Shading SIF equation with negative slope',                                                                                                                                                                                                                                                                                                                                                                                                                                                                                                                                                                                                                                            \n",
    "'Shading SIF equation with positive slope',                                                                                                                                                                                                                                                                                                                                                                                                                                                                                                                                                                                                                                            \n",
    "'Shading greater than',                                                                                                                                                                                                                                                                                                                                                                                                                                                                                                                                                                                                                                                                \n",
    "'Shading less than',                                                                                                                                                                                                                                                                                                                                                                                                                                                                                                                                                                                                                                                                   \n",
    "'Using difficult numbers',                                                                                                                                                                                                                                                                                                                                                                                                                                                                                                                                                                                                                                                             \n",
    "'Using large numbers',                                                                                                                                                                                                                                                                                                                                                                                                                                                                                                                                                                                                                                                                 \n",
    "'Using simple numbers',                                                                                                                                                                                                                                                                                                                                                                                                                                                                                                                                                                                                                                                                \n",
    "'Using small numbers',                                                                                                                                                                                                                                                                                                                                                                                                                                                                                                                                                                                                                                                                 \n",
    "'Write expression, initial and change',                                                                                                                                                                                                                                                                                                                                                                                                                                                                                                                                                                                                                                                \n",
    "'Write expression, initial and point',                                                                                                                                                                                                                                                                                                                                                                                                                                                                                                                                                                                                                                                 \n",
    "'Write expression, negative slope',                                                                                                                                                                                                                                                                                                                                                                                                                                                                                                                                                                                                                                                    \n",
    "'Write expression, positive slope',                                                                                                                                                                                                                                                                                                                                                                                                                                                                                                                                                                                                                                                    \n",
    "'Write expression, quadratic',                                                                                                                                                                                                                                                                                                                                                                                                                                                                                                                                                                                                                                                         \n",
    "'Write expression, ratio',                                                                                                                                                                                                                                                                                                                                                                                                                                                                                                                                                                                                                                                             \n",
    "'Write expression, two points',                                                                                                                                                                                                                                                                                                                                                                                                                                                                                                                                                                                                                                                        \n",
    "'SkillRule: Add/Subtract',                                                                                                                                                                                                                                                                                                                                                                                                                                                                       \n",
    "'SkillRule: Apply Exponent',                                                                                                                                                                                                                                                                                                                                                                                                                                                                                                                                                                                        \n",
    "'SkillRule: Calculate Eliminate Parens',                                                                                                                                                                                                                                                                                                                                                                                                                                                                                                                                                                                                         \n",
    "'SkillRule: Calculate negative coefficient',                                                                                                                                                                                                                                                                                                                                                                                                                                                                                                                                                                                              \n",
    "'SkillRule: Consolidate vars with coeff',                                                                                                                                                                                                                                                                                                                                                                                                                                                                                                                                                                                                                                       \n",
    "'SkillRule: Consolidate vars, any',\n",
    "'SkillRule: Consolidate vars, no coeff',                                                                                                                                                                                                                                                                                                                                                                                                                                                                                                                                                                                                                                      \n",
    "'SkillRule: Do Multiply - Whole nested',                                                                                                                                                                                                                                                                                                                                                                                                                                                                                                                                                                                        \n",
    "'SkillRule: Done?',                                                                                                                                                                                                                                                                                                                                                                                                                                                                                                            \n",
    "'SkillRule: Eliminate Parens 1',\n",
    "'SkillRule: Eliminate Parens 2',                                                                                                                                                                                                                                                                                                                                                                                     \n",
    "'SkillRule: Extract to consolidate vars',                                                                                                                                                                                                                                                                                                                                                                                                                                                                                                                                                                                               \n",
    "'SkillRule: Isolate negative',                                                                                                                                                                                                                                                                                                                                                                                                                                                                                                                                                                                                                                     \n",
    "'SkillRule: Isolate positive',                                                                                                                                                                                                                                                                                                                                                                                                                                                                                                                                                                                                                                     \n",
    "'SkillRule: Make variable positive 1',                                                                                                                                                                                                                                                                                                                                                                                                                                                                                                                                                                                             \n",
    "'SkillRule: Make variable positive 2',                                                                                                                                                                                                   \n",
    "'SkillRule: Multiply/Divide',                                                                                                                                                                                                                                                                                                                                                                                                                                                                                                                                                                               \n",
    "'SkillRule: Remove coefficient',\n",
    "'SkillRule: Remove constant',                                                                                                                                       \n",
    "'SkillRule: Remove negative coefficient',                                                                                                                                                                                                                                                                                                                                                                                                                                                                                                                                                                                               \n",
    "'SkillRule: Remove positive coefficient',                                                                                                                                                                                                                                                                                                                                                                                                                                                                                                                                                                                               \n",
    "'SkillRule: Select Combine Terms',                                                                                                                                                                                                                                                                                                                                                                                                                                                                                                                                                                                                                                              \n",
    "'SkillRule: Select Eliminate Parens',  \n",
    "'SkillRule: Select Multiply/Divide, nested',                                                                                                                                                                                                                                                                                                                                                                                                                                                                                                                                                                                                          \n",
    "'SkillRule: Select Multiply',                                                                                                                                                                                                                                                                                                                                                                                                                                                                                                                                                                                                                     \n",
    "'SkillRule: Variable in denominator',                                                                                                                                                                                                                                                                                                                                                                                                                                                                                                                                                                                                \n",
    "'SkillRule: ax+b=c, negative',                                                                                                                                                                                                                                                                                                                                                                                                                                                                                                                                                                                                                                \n",
    "'SkillRule: done infinite solutions',                                                                                                                                                                                                                                                                                                                                                                                                                                                                                                                                                                                                                      \n",
    "'SkillRule: done no solutions',                                                                                                                                                                                                                                                                                                                                                                                                                                                                                       \n",
    "'SkillRule: invert-mult',                                                                                                                                                                                                                                                                                                                                                                                                                                                                                                                                                                                                                                            \n",
    "'combine-like-terms-r-sp',                                                                                                                                                                                                                                                                                                                                                                                                                                                                                                                                                                                                                                                             \n",
    "'combine-like-terms-sp',                                                                                                                                                                                                                                                                                                                                                                                                                                                                                                                                                                                                                                                               \n",
    "'combine-like-terms-whole-sp',                                                                                                                                                                                                                                                                                                                                                                                                                                                                                                                                                                                                                                                         \n",
    "'distribute-sp',                                                                                                                                                                                                                                                                                                                                                                                                                                                                                                                                                                                                                                                                       \n",
    "'factor-quadratic-sp',                                                                                                                                                                                                                                                                                                                                                                                                                                                                                                                                                                                                                                                                 \n",
    "'factor-sp',                                                                                                                                                                                                                                                                                                                                                                                                                                                                                                                                                                                                                                                                           \n",
    "'perform-mult-r-sp',                                                                                                                                                                                                                                                                                                                                                                                                                                                                                                                                                                                                                                                                   \n",
    "'perform-mult-row2-sp',                                                                                                                                                                                                                                                                                                                                                                                                                                                                                                                                                                                                                                                                \n",
    "'perform-mult-sp',                                                                                                                                                                                                                                                                                                                                                                                                                                                                                                                                                                                                                                                                     \n",
    "'perform-mult-whole-sp',                                                                                                                                                                                                                                                                                                                                                                                                                                                                                                                                                                                                                                                               \n",
    "'qft-den-sp',                                                                                                                                                                                                                                                                                                                                                                                                                                                                                                                                                                                                                                                                          \n",
    "'qft-num1-sp',                                                                                                                                                                                                                                                                                                                                                                                                                                                                                                                                                                                                                                                                         \n",
    "'qft-num2-sp',                                                                                                                                                                                                                                                                                                                                                                                                                                                                                                                                                                                                                                                                         \n",
    "'simplify-fractions-sp',]"
   ]
  },
  {
   "cell_type": "code",
   "execution_count": 9,
   "metadata": {
    "collapsed": true
   },
   "outputs": [],
   "source": [
    "df_dict = df_dict.sort_values(by=['variable'], ascending=True)\n",
    "s = pd.Series(kc)\n",
    "df_dict = df_dict.join(s.to_frame())\n",
    "df_dict.columns = ['KC', 'Num_KCs', 'Label']\n",
    "df_dict.to_pickle('kclistpickle.p')"
   ]
  },
  {
   "cell_type": "code",
   "execution_count": 6,
   "metadata": {
    "collapsed": true
   },
   "outputs": [],
   "source": [
    "d = dict(zip(df_dict['KC'],df_dict['Label']))"
   ]
  },
  {
   "cell_type": "code",
   "execution_count": null,
   "metadata": {
    "collapsed": true
   },
   "outputs": [],
   "source": [
    "df = pd.read_pickle('mtpickle.p')"
   ]
  },
  {
   "cell_type": "code",
   "execution_count": 7,
   "metadata": {
    "collapsed": true
   },
   "outputs": [],
   "source": [
    "df = df.rename(columns = d)"
   ]
  },
  {
   "cell_type": "code",
   "execution_count": 10,
   "metadata": {
    "collapsed": true
   },
   "outputs": [],
   "source": [
    "pd.set_option('display.max_columns', 500)\n",
    "df.to_pickle('mtpickle.p')"
   ]
  },
  {
   "cell_type": "code",
   "execution_count": 14,
   "metadata": {},
   "outputs": [
    {
     "data": {
      "text/html": [
       "<div>\n",
       "<style>\n",
       "    .dataframe thead tr:only-child th {\n",
       "        text-align: right;\n",
       "    }\n",
       "\n",
       "    .dataframe thead th {\n",
       "        text-align: left;\n",
       "    }\n",
       "\n",
       "    .dataframe tbody tr th {\n",
       "        vertical-align: top;\n",
       "    }\n",
       "</style>\n",
       "<table border=\"1\" class=\"dataframe\">\n",
       "  <thead>\n",
       "    <tr style=\"text-align: right;\">\n",
       "      <th></th>\n",
       "      <th>KC</th>\n",
       "      <th>Num_KCs</th>\n",
       "      <th>Label</th>\n",
       "    </tr>\n",
       "  </thead>\n",
       "  <tbody>\n",
       "    <tr>\n",
       "      <th>17</th>\n",
       "      <td>Entering a given</td>\n",
       "      <td>76894</td>\n",
       "      <td>Entering a given</td>\n",
       "    </tr>\n",
       "    <tr>\n",
       "      <th>85</th>\n",
       "      <td>[SkillRule: Remove coefficient; {ax+b=c, divid...</td>\n",
       "      <td>62421</td>\n",
       "      <td>SkillRule: Remove coefficient</td>\n",
       "    </tr>\n",
       "    <tr>\n",
       "      <th>86</th>\n",
       "      <td>[SkillRule: Remove constant; {ax+b=c, positive...</td>\n",
       "      <td>53947</td>\n",
       "      <td>SkillRule: Remove constant</td>\n",
       "    </tr>\n",
       "    <tr>\n",
       "      <th>60</th>\n",
       "      <td>Using small numbers</td>\n",
       "      <td>51002</td>\n",
       "      <td>Using small numbers</td>\n",
       "    </tr>\n",
       "    <tr>\n",
       "      <th>59</th>\n",
       "      <td>Using simple numbers</td>\n",
       "      <td>50830</td>\n",
       "      <td>Using simple numbers</td>\n",
       "    </tr>\n",
       "    <tr>\n",
       "      <th>40</th>\n",
       "      <td>Identifying units</td>\n",
       "      <td>37971</td>\n",
       "      <td>Identifying units</td>\n",
       "    </tr>\n",
       "    <tr>\n",
       "      <th>0</th>\n",
       "      <td>Changing axis bounds</td>\n",
       "      <td>31950</td>\n",
       "      <td>Changing axis bounds</td>\n",
       "    </tr>\n",
       "    <tr>\n",
       "      <th>88</th>\n",
       "      <td>[SkillRule: Remove positive coefficient; {ax/b...</td>\n",
       "      <td>29002</td>\n",
       "      <td>SkillRule: Remove positive coefficient</td>\n",
       "    </tr>\n",
       "    <tr>\n",
       "      <th>57</th>\n",
       "      <td>Using difficult numbers</td>\n",
       "      <td>27052</td>\n",
       "      <td>Using difficult numbers</td>\n",
       "    </tr>\n",
       "    <tr>\n",
       "      <th>58</th>\n",
       "      <td>Using large numbers</td>\n",
       "      <td>26884</td>\n",
       "      <td>Using large numbers</td>\n",
       "    </tr>\n",
       "    <tr>\n",
       "      <th>72</th>\n",
       "      <td>[SkillRule: Consolidate vars with coeff; CLT]</td>\n",
       "      <td>26274</td>\n",
       "      <td>SkillRule: Consolidate vars with coeff</td>\n",
       "    </tr>\n",
       "    <tr>\n",
       "      <th>10</th>\n",
       "      <td>Define Variable</td>\n",
       "      <td>25313</td>\n",
       "      <td>Define Variable</td>\n",
       "    </tr>\n",
       "    <tr>\n",
       "      <th>43</th>\n",
       "      <td>Labelling the axes</td>\n",
       "      <td>24691</td>\n",
       "      <td>Labelling the axes</td>\n",
       "    </tr>\n",
       "    <tr>\n",
       "      <th>64</th>\n",
       "      <td>Write expression, positive slope</td>\n",
       "      <td>20346</td>\n",
       "      <td>Write expression, positive slope</td>\n",
       "    </tr>\n",
       "    <tr>\n",
       "      <th>77</th>\n",
       "      <td>[SkillRule: Eliminate Parens; {CLT nested; CLT...</td>\n",
       "      <td>19066</td>\n",
       "      <td>SkillRule: Eliminate Parens 1</td>\n",
       "    </tr>\n",
       "    <tr>\n",
       "      <th>87</th>\n",
       "      <td>[SkillRule: Remove negative coefficient; {ax/b...</td>\n",
       "      <td>18447</td>\n",
       "      <td>SkillRule: Remove negative coefficient</td>\n",
       "    </tr>\n",
       "    <tr>\n",
       "      <th>32</th>\n",
       "      <td>Find X, positive slope</td>\n",
       "      <td>17837</td>\n",
       "      <td>Find X, positive slope</td>\n",
       "    </tr>\n",
       "    <tr>\n",
       "      <th>68</th>\n",
       "      <td>[SkillRule: Add/Subtract; [Typein Skill: {Isol...</td>\n",
       "      <td>17273</td>\n",
       "      <td>SkillRule: Add/Subtract</td>\n",
       "    </tr>\n",
       "    <tr>\n",
       "      <th>84</th>\n",
       "      <td>[SkillRule: Multiply/Divide; [Typein Skill: {R...</td>\n",
       "      <td>16558</td>\n",
       "      <td>SkillRule: Multiply/Divide</td>\n",
       "    </tr>\n",
       "    <tr>\n",
       "      <th>74</th>\n",
       "      <td>[SkillRule: Consolidate vars, no coeff; CLT]</td>\n",
       "      <td>15411</td>\n",
       "      <td>SkillRule: Consolidate vars, no coeff</td>\n",
       "    </tr>\n",
       "    <tr>\n",
       "      <th>1</th>\n",
       "      <td>Changing axis intervals</td>\n",
       "      <td>15318</td>\n",
       "      <td>Changing axis intervals</td>\n",
       "    </tr>\n",
       "    <tr>\n",
       "      <th>99</th>\n",
       "      <td>combine-like-terms-sp</td>\n",
       "      <td>13203</td>\n",
       "      <td>combine-like-terms-sp</td>\n",
       "    </tr>\n",
       "    <tr>\n",
       "      <th>94</th>\n",
       "      <td>[SkillRule: ax+b=c, negative; ax+b=c, negative]</td>\n",
       "      <td>12888</td>\n",
       "      <td>SkillRule: ax+b=c, negative</td>\n",
       "    </tr>\n",
       "    <tr>\n",
       "      <th>90</th>\n",
       "      <td>[SkillRule: Select Eliminate Parens; {CLT nest...</td>\n",
       "      <td>10166</td>\n",
       "      <td>SkillRule: Select Eliminate Parens</td>\n",
       "    </tr>\n",
       "    <tr>\n",
       "      <th>73</th>\n",
       "      <td>[SkillRule: Consolidate vars, any; {Combine va...</td>\n",
       "      <td>9071</td>\n",
       "      <td>SkillRule: Consolidate vars, any</td>\n",
       "    </tr>\n",
       "    <tr>\n",
       "      <th>36</th>\n",
       "      <td>Find Y, positive slope</td>\n",
       "      <td>8604</td>\n",
       "      <td>Find Y, positive slope</td>\n",
       "    </tr>\n",
       "    <tr>\n",
       "      <th>106</th>\n",
       "      <td>perform-mult-sp</td>\n",
       "      <td>7761</td>\n",
       "      <td>perform-mult-sp</td>\n",
       "    </tr>\n",
       "    <tr>\n",
       "      <th>33</th>\n",
       "      <td>Find Y, Simple</td>\n",
       "      <td>7380</td>\n",
       "      <td>Find Y, Simple</td>\n",
       "    </tr>\n",
       "    <tr>\n",
       "      <th>91</th>\n",
       "      <td>[SkillRule: Select Multiply/Divide, nested; {M...</td>\n",
       "      <td>6519</td>\n",
       "      <td>SkillRule: Select Multiply/Divide, nested</td>\n",
       "    </tr>\n",
       "    <tr>\n",
       "      <th>111</th>\n",
       "      <td>simplify-fractions-sp</td>\n",
       "      <td>6347</td>\n",
       "      <td>simplify-fractions-sp</td>\n",
       "    </tr>\n",
       "    <tr>\n",
       "      <th>...</th>\n",
       "      <td>...</td>\n",
       "      <td>...</td>\n",
       "      <td>...</td>\n",
       "    </tr>\n",
       "    <tr>\n",
       "      <th>29</th>\n",
       "      <td>Excluding the line when shading</td>\n",
       "      <td>721</td>\n",
       "      <td>Excluding the line when shading</td>\n",
       "    </tr>\n",
       "    <tr>\n",
       "      <th>3</th>\n",
       "      <td>Choose Graphical a</td>\n",
       "      <td>703</td>\n",
       "      <td>Choose Graphical a</td>\n",
       "    </tr>\n",
       "    <tr>\n",
       "      <th>11</th>\n",
       "      <td>Edit Algebraic a</td>\n",
       "      <td>703</td>\n",
       "      <td>Edit Algebraic a</td>\n",
       "    </tr>\n",
       "    <tr>\n",
       "      <th>56</th>\n",
       "      <td>Shading less than</td>\n",
       "      <td>680</td>\n",
       "      <td>Shading less than</td>\n",
       "    </tr>\n",
       "    <tr>\n",
       "      <th>65</th>\n",
       "      <td>Write expression, quadratic</td>\n",
       "      <td>646</td>\n",
       "      <td>Write expression, quadratic</td>\n",
       "    </tr>\n",
       "    <tr>\n",
       "      <th>27</th>\n",
       "      <td>Entering y-intercept, GLF</td>\n",
       "      <td>571</td>\n",
       "      <td>Entering y-intercept, GLF</td>\n",
       "    </tr>\n",
       "    <tr>\n",
       "      <th>78</th>\n",
       "      <td>[SkillRule: Eliminate Parens; {[var expr]/[con...</td>\n",
       "      <td>510</td>\n",
       "      <td>SkillRule: Eliminate Parens 2</td>\n",
       "    </tr>\n",
       "    <tr>\n",
       "      <th>28</th>\n",
       "      <td>Entering y-intercept, SIF</td>\n",
       "      <td>508</td>\n",
       "      <td>Entering y-intercept, SIF</td>\n",
       "    </tr>\n",
       "    <tr>\n",
       "      <th>48</th>\n",
       "      <td>Positive Constants, SIF</td>\n",
       "      <td>490</td>\n",
       "      <td>Positive Constants, SIF</td>\n",
       "    </tr>\n",
       "    <tr>\n",
       "      <th>25</th>\n",
       "      <td>Entering x-intercept, GLF</td>\n",
       "      <td>479</td>\n",
       "      <td>Entering x-intercept, GLF</td>\n",
       "    </tr>\n",
       "    <tr>\n",
       "      <th>71</th>\n",
       "      <td>[SkillRule: Calculate negative coefficient; [T...</td>\n",
       "      <td>445</td>\n",
       "      <td>SkillRule: Calculate negative coefficient</td>\n",
       "    </tr>\n",
       "    <tr>\n",
       "      <th>14</th>\n",
       "      <td>Edit Algebraic refl-v</td>\n",
       "      <td>442</td>\n",
       "      <td>Edit Algebraic refl-v</td>\n",
       "    </tr>\n",
       "    <tr>\n",
       "      <th>2</th>\n",
       "      <td>Choose Graphical Refl-v</td>\n",
       "      <td>441</td>\n",
       "      <td>Choose Graphical Refl-v</td>\n",
       "    </tr>\n",
       "    <tr>\n",
       "      <th>52</th>\n",
       "      <td>Shading GLF equation with positive slope</td>\n",
       "      <td>418</td>\n",
       "      <td>Shading GLF equation with positive slope</td>\n",
       "    </tr>\n",
       "    <tr>\n",
       "      <th>12</th>\n",
       "      <td>Edit Algebraic h</td>\n",
       "      <td>404</td>\n",
       "      <td>Edit Algebraic h</td>\n",
       "    </tr>\n",
       "    <tr>\n",
       "      <th>4</th>\n",
       "      <td>Choose Graphical h</td>\n",
       "      <td>399</td>\n",
       "      <td>Choose Graphical h</td>\n",
       "    </tr>\n",
       "    <tr>\n",
       "      <th>54</th>\n",
       "      <td>Shading SIF equation with positive slope</td>\n",
       "      <td>308</td>\n",
       "      <td>Shading SIF equation with positive slope</td>\n",
       "    </tr>\n",
       "    <tr>\n",
       "      <th>26</th>\n",
       "      <td>Entering x-intercept, SIF</td>\n",
       "      <td>294</td>\n",
       "      <td>Entering x-intercept, SIF</td>\n",
       "    </tr>\n",
       "    <tr>\n",
       "      <th>51</th>\n",
       "      <td>Shading GLF equation with negative slope</td>\n",
       "      <td>270</td>\n",
       "      <td>Shading GLF equation with negative slope</td>\n",
       "    </tr>\n",
       "    <tr>\n",
       "      <th>22</th>\n",
       "      <td>Entering slope, SIF</td>\n",
       "      <td>261</td>\n",
       "      <td>Entering slope, SIF</td>\n",
       "    </tr>\n",
       "    <tr>\n",
       "      <th>53</th>\n",
       "      <td>Shading SIF equation with negative slope</td>\n",
       "      <td>252</td>\n",
       "      <td>Shading SIF equation with negative slope</td>\n",
       "    </tr>\n",
       "    <tr>\n",
       "      <th>7</th>\n",
       "      <td>Convert unit, multiplier</td>\n",
       "      <td>204</td>\n",
       "      <td>Convert unit, multiplier</td>\n",
       "    </tr>\n",
       "    <tr>\n",
       "      <th>21</th>\n",
       "      <td>Entering slope, GLF</td>\n",
       "      <td>170</td>\n",
       "      <td>Entering slope, GLF</td>\n",
       "    </tr>\n",
       "    <tr>\n",
       "      <th>66</th>\n",
       "      <td>Write expression, ratio</td>\n",
       "      <td>145</td>\n",
       "      <td>Write expression, ratio</td>\n",
       "    </tr>\n",
       "    <tr>\n",
       "      <th>98</th>\n",
       "      <td>combine-like-terms-r-sp</td>\n",
       "      <td>134</td>\n",
       "      <td>combine-like-terms-r-sp</td>\n",
       "    </tr>\n",
       "    <tr>\n",
       "      <th>82</th>\n",
       "      <td>[SkillRule: Make variable positive; {add x in ...</td>\n",
       "      <td>78</td>\n",
       "      <td>SkillRule: Make variable positive 1</td>\n",
       "    </tr>\n",
       "    <tr>\n",
       "      <th>96</th>\n",
       "      <td>[SkillRule: done no solutions; {done no soluti...</td>\n",
       "      <td>57</td>\n",
       "      <td>SkillRule: done no solutions</td>\n",
       "    </tr>\n",
       "    <tr>\n",
       "      <th>97</th>\n",
       "      <td>[SkillRule: invert-mult; {ivm}]</td>\n",
       "      <td>53</td>\n",
       "      <td>SkillRule: invert-mult</td>\n",
       "    </tr>\n",
       "    <tr>\n",
       "      <th>95</th>\n",
       "      <td>[SkillRule: done infinite solutions; done infi...</td>\n",
       "      <td>3</td>\n",
       "      <td>SkillRule: done infinite solutions</td>\n",
       "    </tr>\n",
       "    <tr>\n",
       "      <th>75</th>\n",
       "      <td>[SkillRule: Do Multiply - Whole nested; [Typei...</td>\n",
       "      <td>1</td>\n",
       "      <td>SkillRule: Do Multiply - Whole nested</td>\n",
       "    </tr>\n",
       "  </tbody>\n",
       "</table>\n",
       "<p>112 rows × 3 columns</p>\n",
       "</div>"
      ],
      "text/plain": [
       "                                                    KC  Num_KCs  \\\n",
       "17                                    Entering a given    76894   \n",
       "85   [SkillRule: Remove coefficient; {ax+b=c, divid...    62421   \n",
       "86   [SkillRule: Remove constant; {ax+b=c, positive...    53947   \n",
       "60                                 Using small numbers    51002   \n",
       "59                                Using simple numbers    50830   \n",
       "40                                   Identifying units    37971   \n",
       "0                                 Changing axis bounds    31950   \n",
       "88   [SkillRule: Remove positive coefficient; {ax/b...    29002   \n",
       "57                             Using difficult numbers    27052   \n",
       "58                                 Using large numbers    26884   \n",
       "72       [SkillRule: Consolidate vars with coeff; CLT]    26274   \n",
       "10                                     Define Variable    25313   \n",
       "43                                  Labelling the axes    24691   \n",
       "64                    Write expression, positive slope    20346   \n",
       "77   [SkillRule: Eliminate Parens; {CLT nested; CLT...    19066   \n",
       "87   [SkillRule: Remove negative coefficient; {ax/b...    18447   \n",
       "32                              Find X, positive slope    17837   \n",
       "68   [SkillRule: Add/Subtract; [Typein Skill: {Isol...    17273   \n",
       "84   [SkillRule: Multiply/Divide; [Typein Skill: {R...    16558   \n",
       "74        [SkillRule: Consolidate vars, no coeff; CLT]    15411   \n",
       "1                              Changing axis intervals    15318   \n",
       "99                               combine-like-terms-sp    13203   \n",
       "94     [SkillRule: ax+b=c, negative; ax+b=c, negative]    12888   \n",
       "90   [SkillRule: Select Eliminate Parens; {CLT nest...    10166   \n",
       "73   [SkillRule: Consolidate vars, any; {Combine va...     9071   \n",
       "36                              Find Y, positive slope     8604   \n",
       "106                                    perform-mult-sp     7761   \n",
       "33                                      Find Y, Simple     7380   \n",
       "91   [SkillRule: Select Multiply/Divide, nested; {M...     6519   \n",
       "111                              simplify-fractions-sp     6347   \n",
       "..                                                 ...      ...   \n",
       "29                     Excluding the line when shading      721   \n",
       "3                                   Choose Graphical a      703   \n",
       "11                                    Edit Algebraic a      703   \n",
       "56                                   Shading less than      680   \n",
       "65                         Write expression, quadratic      646   \n",
       "27                           Entering y-intercept, GLF      571   \n",
       "78   [SkillRule: Eliminate Parens; {[var expr]/[con...      510   \n",
       "28                           Entering y-intercept, SIF      508   \n",
       "48                             Positive Constants, SIF      490   \n",
       "25                           Entering x-intercept, GLF      479   \n",
       "71   [SkillRule: Calculate negative coefficient; [T...      445   \n",
       "14                               Edit Algebraic refl-v      442   \n",
       "2                              Choose Graphical Refl-v      441   \n",
       "52            Shading GLF equation with positive slope      418   \n",
       "12                                    Edit Algebraic h      404   \n",
       "4                                   Choose Graphical h      399   \n",
       "54            Shading SIF equation with positive slope      308   \n",
       "26                           Entering x-intercept, SIF      294   \n",
       "51            Shading GLF equation with negative slope      270   \n",
       "22                                 Entering slope, SIF      261   \n",
       "53            Shading SIF equation with negative slope      252   \n",
       "7                             Convert unit, multiplier      204   \n",
       "21                                 Entering slope, GLF      170   \n",
       "66                             Write expression, ratio      145   \n",
       "98                             combine-like-terms-r-sp      134   \n",
       "82   [SkillRule: Make variable positive; {add x in ...       78   \n",
       "96   [SkillRule: done no solutions; {done no soluti...       57   \n",
       "97                     [SkillRule: invert-mult; {ivm}]       53   \n",
       "95   [SkillRule: done infinite solutions; done infi...        3   \n",
       "75   [SkillRule: Do Multiply - Whole nested; [Typei...        1   \n",
       "\n",
       "                                         Label  \n",
       "17                            Entering a given  \n",
       "85               SkillRule: Remove coefficient  \n",
       "86                  SkillRule: Remove constant  \n",
       "60                         Using small numbers  \n",
       "59                        Using simple numbers  \n",
       "40                           Identifying units  \n",
       "0                         Changing axis bounds  \n",
       "88      SkillRule: Remove positive coefficient  \n",
       "57                     Using difficult numbers  \n",
       "58                         Using large numbers  \n",
       "72      SkillRule: Consolidate vars with coeff  \n",
       "10                             Define Variable  \n",
       "43                          Labelling the axes  \n",
       "64            Write expression, positive slope  \n",
       "77               SkillRule: Eliminate Parens 1  \n",
       "87      SkillRule: Remove negative coefficient  \n",
       "32                      Find X, positive slope  \n",
       "68                     SkillRule: Add/Subtract  \n",
       "84                  SkillRule: Multiply/Divide  \n",
       "74       SkillRule: Consolidate vars, no coeff  \n",
       "1                      Changing axis intervals  \n",
       "99                       combine-like-terms-sp  \n",
       "94                 SkillRule: ax+b=c, negative  \n",
       "90          SkillRule: Select Eliminate Parens  \n",
       "73            SkillRule: Consolidate vars, any  \n",
       "36                      Find Y, positive slope  \n",
       "106                            perform-mult-sp  \n",
       "33                              Find Y, Simple  \n",
       "91   SkillRule: Select Multiply/Divide, nested  \n",
       "111                      simplify-fractions-sp  \n",
       "..                                         ...  \n",
       "29             Excluding the line when shading  \n",
       "3                           Choose Graphical a  \n",
       "11                            Edit Algebraic a  \n",
       "56                           Shading less than  \n",
       "65                 Write expression, quadratic  \n",
       "27                   Entering y-intercept, GLF  \n",
       "78               SkillRule: Eliminate Parens 2  \n",
       "28                   Entering y-intercept, SIF  \n",
       "48                     Positive Constants, SIF  \n",
       "25                   Entering x-intercept, GLF  \n",
       "71   SkillRule: Calculate negative coefficient  \n",
       "14                       Edit Algebraic refl-v  \n",
       "2                      Choose Graphical Refl-v  \n",
       "52    Shading GLF equation with positive slope  \n",
       "12                            Edit Algebraic h  \n",
       "4                           Choose Graphical h  \n",
       "54    Shading SIF equation with positive slope  \n",
       "26                   Entering x-intercept, SIF  \n",
       "51    Shading GLF equation with negative slope  \n",
       "22                         Entering slope, SIF  \n",
       "53    Shading SIF equation with negative slope  \n",
       "7                     Convert unit, multiplier  \n",
       "21                         Entering slope, GLF  \n",
       "66                     Write expression, ratio  \n",
       "98                     combine-like-terms-r-sp  \n",
       "82         SkillRule: Make variable positive 1  \n",
       "96                SkillRule: done no solutions  \n",
       "97                      SkillRule: invert-mult  \n",
       "95          SkillRule: done infinite solutions  \n",
       "75       SkillRule: Do Multiply - Whole nested  \n",
       "\n",
       "[112 rows x 3 columns]"
      ]
     },
     "execution_count": 14,
     "metadata": {},
     "output_type": "execute_result"
    }
   ],
   "source": [
    "df_dict.sort_values(by=['Num_KCs'], ascending=False)"
   ]
  },
  {
   "cell_type": "code",
   "execution_count": null,
   "metadata": {},
   "outputs": [],
   "source": []
  },
  {
   "cell_type": "code",
   "execution_count": null,
   "metadata": {
    "collapsed": true
   },
   "outputs": [],
   "source": []
  },
  {
   "cell_type": "code",
   "execution_count": null,
   "metadata": {
    "collapsed": true
   },
   "outputs": [],
   "source": []
  },
  {
   "cell_type": "code",
   "execution_count": null,
   "metadata": {
    "collapsed": true
   },
   "outputs": [],
   "source": []
  },
  {
   "cell_type": "code",
   "execution_count": null,
   "metadata": {
    "collapsed": true
   },
   "outputs": [],
   "source": []
  },
  {
   "cell_type": "code",
   "execution_count": null,
   "metadata": {
    "collapsed": true
   },
   "outputs": [],
   "source": []
  },
  {
   "cell_type": "code",
   "execution_count": 170,
   "metadata": {
    "collapsed": true
   },
   "outputs": [],
   "source": []
  },
  {
   "cell_type": "code",
   "execution_count": 171,
   "metadata": {
    "collapsed": true
   },
   "outputs": [],
   "source": []
  },
  {
   "cell_type": "code",
   "execution_count": 172,
   "metadata": {
    "collapsed": true
   },
   "outputs": [],
   "source": []
  },
  {
   "cell_type": "code",
   "execution_count": 42,
   "metadata": {
    "collapsed": true
   },
   "outputs": [],
   "source": []
  },
  {
   "cell_type": "code",
   "execution_count": 135,
   "metadata": {
    "collapsed": true
   },
   "outputs": [],
   "source": []
  },
  {
   "cell_type": "code",
   "execution_count": 136,
   "metadata": {},
   "outputs": [
    {
     "data": {
      "text/plain": [
       "1    38265\n",
       "0    12221\n",
       "Name: Correct First Attempt, dtype: int64"
      ]
     },
     "execution_count": 136,
     "metadata": {},
     "output_type": "execute_result"
    }
   ],
   "source": []
  },
  {
   "cell_type": "code",
   "execution_count": 137,
   "metadata": {},
   "outputs": [
    {
     "data": {
      "text/plain": [
       "1    47312\n",
       "0     3174\n",
       "Name: Predictions, dtype: int64"
      ]
     },
     "execution_count": 137,
     "metadata": {},
     "output_type": "execute_result"
    }
   ],
   "source": []
  },
  {
   "cell_type": "code",
   "execution_count": null,
   "metadata": {
    "collapsed": true
   },
   "outputs": [],
   "source": []
  },
  {
   "cell_type": "code",
   "execution_count": null,
   "metadata": {
    "collapsed": true
   },
   "outputs": [],
   "source": []
  },
  {
   "cell_type": "code",
   "execution_count": null,
   "metadata": {
    "collapsed": true
   },
   "outputs": [],
   "source": []
  },
  {
   "cell_type": "code",
   "execution_count": 11,
   "metadata": {
    "collapsed": true
   },
   "outputs": [],
   "source": []
  },
  {
   "cell_type": "code",
   "execution_count": 12,
   "metadata": {
    "collapsed": true
   },
   "outputs": [],
   "source": []
  },
  {
   "cell_type": "code",
   "execution_count": 14,
   "metadata": {
    "collapsed": true
   },
   "outputs": [],
   "source": []
  },
  {
   "cell_type": "code",
   "execution_count": 15,
   "metadata": {
    "collapsed": true
   },
   "outputs": [],
   "source": []
  },
  {
   "cell_type": "code",
   "execution_count": null,
   "metadata": {
    "collapsed": true
   },
   "outputs": [],
   "source": []
  },
  {
   "cell_type": "code",
   "execution_count": null,
   "metadata": {
    "collapsed": true
   },
   "outputs": [],
   "source": []
  },
  {
   "cell_type": "code",
   "execution_count": 30,
   "metadata": {},
   "outputs": [
    {
     "data": {
      "text/plain": [
       "(201587, 213)"
      ]
     },
     "execution_count": 30,
     "metadata": {},
     "output_type": "execute_result"
    }
   ],
   "source": []
  },
  {
   "cell_type": "code",
   "execution_count": 31,
   "metadata": {},
   "outputs": [
    {
     "data": {
      "text/plain": [
       "RandomForestClassifier(bootstrap=True, class_weight=None, criterion='gini',\n",
       "            max_depth=None, max_features='auto', max_leaf_nodes=None,\n",
       "            min_impurity_split=1e-07, min_samples_leaf=1,\n",
       "            min_samples_split=2, min_weight_fraction_leaf=0.0,\n",
       "            n_estimators=10, n_jobs=1, oob_score=False, random_state=None,\n",
       "            verbose=0, warm_start=False)"
      ]
     },
     "execution_count": 31,
     "metadata": {},
     "output_type": "execute_result"
    }
   ],
   "source": []
  },
  {
   "cell_type": "code",
   "execution_count": 32,
   "metadata": {
    "collapsed": true
   },
   "outputs": [],
   "source": []
  },
  {
   "cell_type": "code",
   "execution_count": 33,
   "metadata": {},
   "outputs": [
    {
     "data": {
      "text/plain": [
       "0.79490740970399876"
      ]
     },
     "execution_count": 33,
     "metadata": {},
     "output_type": "execute_result"
    }
   ],
   "source": []
  },
  {
   "cell_type": "code",
   "execution_count": 36,
   "metadata": {},
   "outputs": [
    {
     "data": {
      "text/plain": [
       "(608107, 213)"
      ]
     },
     "execution_count": 36,
     "metadata": {},
     "output_type": "execute_result"
    }
   ],
   "source": []
  },
  {
   "cell_type": "code",
   "execution_count": null,
   "metadata": {
    "collapsed": true
   },
   "outputs": [],
   "source": []
  },
  {
   "cell_type": "code",
   "execution_count": 224,
   "metadata": {
    "collapsed": true
   },
   "outputs": [],
   "source": []
  },
  {
   "cell_type": "code",
   "execution_count": 225,
   "metadata": {
    "collapsed": true
   },
   "outputs": [],
   "source": []
  },
  {
   "cell_type": "code",
   "execution_count": null,
   "metadata": {
    "collapsed": true
   },
   "outputs": [],
   "source": []
  },
  {
   "cell_type": "code",
   "execution_count": 227,
   "metadata": {
    "collapsed": true
   },
   "outputs": [],
   "source": []
  },
  {
   "cell_type": "code",
   "execution_count": 228,
   "metadata": {
    "collapsed": true
   },
   "outputs": [],
   "source": []
  },
  {
   "cell_type": "code",
   "execution_count": 230,
   "metadata": {
    "collapsed": true
   },
   "outputs": [],
   "source": []
  },
  {
   "cell_type": "code",
   "execution_count": 231,
   "metadata": {
    "collapsed": true
   },
   "outputs": [],
   "source": []
  },
  {
   "cell_type": "code",
   "execution_count": 229,
   "metadata": {
    "collapsed": true
   },
   "outputs": [],
   "source": []
  },
  {
   "cell_type": "code",
   "execution_count": null,
   "metadata": {
    "collapsed": true
   },
   "outputs": [],
   "source": []
  },
  {
   "cell_type": "code",
   "execution_count": null,
   "metadata": {
    "collapsed": true
   },
   "outputs": [],
   "source": []
  }
 ],
 "metadata": {
  "kernelspec": {
   "display_name": "Python 3",
   "language": "python",
   "name": "python3"
  },
  "language_info": {
   "codemirror_mode": {
    "name": "ipython",
    "version": 3
   },
   "file_extension": ".py",
   "mimetype": "text/x-python",
   "name": "python",
   "nbconvert_exporter": "python",
   "pygments_lexer": "ipython3",
   "version": "3.6.1"
  }
 },
 "nbformat": 4,
 "nbformat_minor": 2
}
